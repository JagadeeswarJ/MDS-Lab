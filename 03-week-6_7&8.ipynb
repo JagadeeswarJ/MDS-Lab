{
 "cells": [
  {
   "cell_type": "code",
   "execution_count": null,
   "metadata": {
    "id": "Fht1OILuTQCG"
   },
   "outputs": [],
   "source": [
    "\n",
    "import pandas as pd\n",
    "import numpy as np\n",
    "import matplotlib.pyplot as plt\n",
    "\n",
    "df = pd.read_csv('data/nptel.csv')  # Local path"
   ]
  },
  {
   "cell_type": "code",
   "execution_count": null,
   "metadata": {
    "colab": {
     "base_uri": "https://localhost:8080/",
     "height": 573
    },
    "executionInfo": {
     "elapsed": 141,
     "status": "ok",
     "timestamp": 1755506102503,
     "user": {
      "displayName": "K.Saivenkat",
      "userId": "04970572984915380454"
     },
     "user_tz": -330
    },
    "id": "dCLz6xAdUSg1",
    "outputId": "45a16cad-0747-461c-87bb-4a17d8b6c4e9"
   },
   "outputs": [],
   "source": [
    "## Section 2: Initial Data Exploration\n",
    "\n",
    "df.head()"
   ]
  },
  {
   "cell_type": "code",
   "execution_count": null,
   "metadata": {
    "colab": {
     "base_uri": "https://localhost:8080/"
    },
    "executionInfo": {
     "elapsed": 5,
     "status": "ok",
     "timestamp": 1755506574545,
     "user": {
      "displayName": "K.Saivenkat",
      "userId": "04970572984915380454"
     },
     "user_tz": -330
    },
    "id": "fsTfCnDhUU8F",
    "outputId": "9510152b-a584-4c10-c091-2231e01ab318"
   },
   "outputs": [],
   "source": [
    "# Check the dimensions of the dataset (rows, columns)\n",
    "print(f\"Dataset shape: {df.shape}\")\n",
    "print(f\"Number of records: {df.shape[0]}\")\n",
    "print(f\"Number of columns: {df.shape[1]}\")"
   ]
  },
  {
   "cell_type": "code",
   "execution_count": null,
   "metadata": {
    "colab": {
     "base_uri": "https://localhost:8080/"
    },
    "executionInfo": {
     "elapsed": 8,
     "status": "ok",
     "timestamp": 1755506582290,
     "user": {
      "displayName": "K.Saivenkat",
      "userId": "04970572984915380454"
     },
     "user_tz": -330
    },
    "id": "2OLEyCAYWGrF",
    "outputId": "1341825f-2b7a-4cfd-ed81-e66b3d0e0b91"
   },
   "outputs": [],
   "source": [
    "df.info()"
   ]
  },
  {
   "cell_type": "code",
   "execution_count": null,
   "metadata": {
    "colab": {
     "base_uri": "https://localhost:8080/",
     "height": 423
    },
    "executionInfo": {
     "elapsed": 39,
     "status": "ok",
     "timestamp": 1755506818720,
     "user": {
      "displayName": "K.Saivenkat",
      "userId": "04970572984915380454"
     },
     "user_tz": -330
    },
    "id": "NVjNfgk9WKGk",
    "outputId": "cdc35cf2-1717-465b-f923-6550b6c66ef8"
   },
   "outputs": [],
   "source": [
    "# Display all column names\n",
    "print(\"Dataset columns:\")\n",
    "print(df.columns.tolist())"
   ]
  },
  {
   "cell_type": "code",
   "execution_count": null,
   "metadata": {
    "colab": {
     "base_uri": "https://localhost:8080/",
     "height": 490
    },
    "executionInfo": {
     "elapsed": 45,
     "status": "ok",
     "timestamp": 1755506895744,
     "user": {
      "displayName": "K.Saivenkat",
      "userId": "04970572984915380454"
     },
     "user_tz": -330
    },
    "id": "RFjNEvTZWwAF",
    "outputId": "f079db8f-9c0e-4a3e-af7d-bd84724912ba"
   },
   "outputs": [],
   "source": [
    "## Section 3: Data Selection and Filtering\n",
    "\n",
    "# Select specific columns for analysis\n",
    "selected_columns = df[['Name', 'Course Name', 'Choice 1 City']]\n",
    "print(\"Selected columns preview:\")\n",
    "selected_columns.head()"
   ]
  },
  {
   "cell_type": "code",
   "execution_count": null,
   "metadata": {
    "colab": {
     "base_uri": "https://localhost:8080/"
    },
    "executionInfo": {
     "elapsed": 11,
     "status": "ok",
     "timestamp": 1755508798325,
     "user": {
      "displayName": "K.Saivenkat",
      "userId": "04970572984915380454"
     },
     "user_tz": -330
    },
    "id": "Eq-Gzd-qdWyb",
    "outputId": "9c216c09-8abf-4d2b-b8e6-d2b76ba2e8d3"
   },
   "outputs": [],
   "source": [
    "# Analyze course popularity\n",
    "print(\"Course enrollment distribution:\")\n",
    "course_counts = df['Course Name'].value_counts()\n",
    "print(course_counts)"
   ]
  },
  {
   "cell_type": "code",
   "execution_count": null,
   "metadata": {
    "colab": {
     "base_uri": "https://localhost:8080/",
     "height": 930
    },
    "executionInfo": {
     "elapsed": 110,
     "status": "ok",
     "timestamp": 1755507019400,
     "user": {
      "displayName": "K.Saivenkat",
      "userId": "04970572984915380454"
     },
     "user_tz": -330
    },
    "id": "LGw_B1WJXWn0",
    "outputId": "259edb03-38cf-45a6-91e3-ac7b44e25a4f"
   },
   "outputs": [],
   "source": [
    "# Filter data by department (if Department column exists)\n",
    "# Note: Check if 'Department' column exists in your dataset\n",
    "if 'Department' in df.columns:\n",
    "    data_science_records = df[df['Department'] == 'data_science']\n",
    "    print(f\"Number of Data Science department records: {data_science_records.shape[0]}\")\n",
    "else:\n",
    "    print(\"Department column not found in dataset\")"
   ]
  },
  {
   "cell_type": "code",
   "execution_count": null,
   "metadata": {
    "colab": {
     "base_uri": "https://localhost:8080/"
    },
    "executionInfo": {
     "elapsed": 7,
     "status": "ok",
     "timestamp": 1755508817423,
     "user": {
      "displayName": "K.Saivenkat",
      "userId": "04970572984915380454"
     },
     "user_tz": -330
    },
    "id": "HS2Jdxdrepiz",
    "outputId": "af97e678-941d-401a-d31b-b2cda489dc41"
   },
   "outputs": [],
   "source": [
    "# Filter registrations by city\n",
    "hyderabad_registrations = df[df['Choice 1 City'] == 'Hyderabad']\n",
    "print(f\"Number of registrations for Hyderabad: {len(hyderabad_registrations)}\")\n",
    "print(\"\\nSample records:\")\n",
    "hyderabad_registrations.head()"
   ]
  },
  {
   "cell_type": "code",
   "execution_count": null,
   "metadata": {
    "colab": {
     "base_uri": "https://localhost:8080/",
     "height": 104
    },
    "executionInfo": {
     "elapsed": 42,
     "status": "ok",
     "timestamp": 1755507267385,
     "user": {
      "displayName": "K.Saivenkat",
      "userId": "04970572984915380454"
     },
     "user_tz": -330
    },
    "id": "6z1Iwe2pX0zE",
    "outputId": "316defc5-4c62-4791-94e4-ca4a0110f7b4"
   },
   "outputs": [],
   "source": [
    "## Section 4: Data Quality Analysis\n",
    "\n",
    "# Check for missing or zero amounts in the Amount column\n",
    "missing_or_zero_amounts = df[df['Amount'].isna() | (df['Amount'] == 0)]\n",
    "print(f\"Records with missing or zero amounts: {len(missing_or_zero_amounts)}\")\n",
    "missing_or_zero_amounts.head()"
   ]
  },
  {
   "cell_type": "code",
   "execution_count": null,
   "metadata": {
    "executionInfo": {
     "elapsed": 45,
     "status": "ok",
     "timestamp": 1755507610616,
     "user": {
      "displayName": "K.Saivenkat",
      "userId": "04970572984915380454"
     },
     "user_tz": -330
    },
    "id": "ITZPl8XeYxWk"
   },
   "outputs": [],
   "source": [
    "temp=pd.to_datetime(df['Exam Date'])"
   ]
  },
  {
   "cell_type": "code",
   "execution_count": null,
   "metadata": {
    "executionInfo": {
     "elapsed": 10,
     "status": "ok",
     "timestamp": 1755507652131,
     "user": {
      "displayName": "K.Saivenkat",
      "userId": "04970572984915380454"
     },
     "user_tz": -330
    },
    "id": "JwFtVMjoaFJ1"
   },
   "outputs": [],
   "source": [
    "df['Exam Date']=temp"
   ]
  },
  {
   "cell_type": "code",
   "execution_count": null,
   "metadata": {
    "colab": {
     "base_uri": "https://localhost:8080/"
    },
    "executionInfo": {
     "elapsed": 39,
     "status": "ok",
     "timestamp": 1755509350783,
     "user": {
      "displayName": "K.Saivenkat",
      "userId": "04970572984915380454"
     },
     "user_tz": -330
    },
    "id": "AeAIU6_HaPTE",
    "outputId": "2f17fa1b-4678-4214-c86f-3412c9ca3301"
   },
   "outputs": [],
   "source": [
    "df[df['Exam Date']>'2025-07-01'].shape"
   ]
  },
  {
   "cell_type": "code",
   "execution_count": null,
   "metadata": {
    "colab": {
     "base_uri": "https://localhost:8080/",
     "height": 458
    },
    "executionInfo": {
     "elapsed": 24,
     "status": "ok",
     "timestamp": 1755508014381,
     "user": {
      "displayName": "K.Saivenkat",
      "userId": "04970572984915380454"
     },
     "user_tz": -330
    },
    "id": "j8a_W7ypa1GE",
    "outputId": "aab01289-b597-4aff-f9f2-0671857fd971"
   },
   "outputs": [],
   "source": [
    "df['Exam Date'].sort_values()"
   ]
  },
  {
   "cell_type": "code",
   "execution_count": null,
   "metadata": {
    "colab": {
     "base_uri": "https://localhost:8080/",
     "height": 458
    },
    "executionInfo": {
     "elapsed": 21,
     "status": "ok",
     "timestamp": 1755508100173,
     "user": {
      "displayName": "K.Saivenkat",
      "userId": "04970572984915380454"
     },
     "user_tz": -330
    },
    "id": "g-Gbe2idblmj",
    "outputId": "6e7c7423-6ea3-460f-9d4c-0c9b5eeffce3"
   },
   "outputs": [],
   "source": [
    "df['Amount'].sort_values(ascending=False)"
   ]
  },
  {
   "cell_type": "code",
   "execution_count": null,
   "metadata": {
    "colab": {
     "base_uri": "https://localhost:8080/",
     "height": 982
    },
    "executionInfo": {
     "elapsed": 212,
     "status": "ok",
     "timestamp": 1755508230108,
     "user": {
      "displayName": "K.Saivenkat",
      "userId": "04970572984915380454"
     },
     "user_tz": -330
    },
    "id": "DXhf0DZZbxbk",
    "outputId": "57467883-d714-4832-fec8-ddf8c8fb881f"
   },
   "outputs": [],
   "source": [
    "df.sort_values(by=['Course Name', 'Choice 1 City'])"
   ]
  },
  {
   "cell_type": "code",
   "execution_count": null,
   "metadata": {
    "colab": {
     "base_uri": "https://localhost:8080/",
     "height": 458
    },
    "executionInfo": {
     "elapsed": 159,
     "status": "ok",
     "timestamp": 1755508267355,
     "user": {
      "displayName": "K.Saivenkat",
      "userId": "04970572984915380454"
     },
     "user_tz": -330
    },
    "id": "4Qn4FgGgcR0z",
    "outputId": "425549cc-892e-486c-ad43-090453d27226"
   },
   "outputs": [],
   "source": [
    "df.isnull()"
   ]
  },
  {
   "cell_type": "code",
   "execution_count": null,
   "metadata": {
    "colab": {
     "base_uri": "https://localhost:8080/"
    },
    "executionInfo": {
     "elapsed": 12,
     "status": "ok",
     "timestamp": 1755509816739,
     "user": {
      "displayName": "K.Saivenkat",
      "userId": "04970572984915380454"
     },
     "user_tz": -330
    },
    "id": "zQUTR61Pcldj",
    "outputId": "db16607c-0ce5-4a96-8b98-84cdc8d9d64c"
   },
   "outputs": [],
   "source": [
    "df[df['PWD status'].isna()].shape\n"
   ]
  },
  {
   "cell_type": "code",
   "execution_count": null,
   "metadata": {
    "colab": {
     "base_uri": "https://localhost:8080/"
    },
    "executionInfo": {
     "elapsed": 5,
     "status": "ok",
     "timestamp": 1755509749919,
     "user": {
      "displayName": "K.Saivenkat",
      "userId": "04970572984915380454"
     },
     "user_tz": -330
    },
    "id": "atjiUlRHfE1j",
    "outputId": "e94fbb2b-9f74-4a50-fe40-394abc7d6858"
   },
   "outputs": [],
   "source": [
    "df[df['Choice 1 City'].isna()].shape"
   ]
  },
  {
   "cell_type": "code",
   "execution_count": null,
   "metadata": {
    "colab": {
     "base_uri": "https://localhost:8080/"
    },
    "executionInfo": {
     "elapsed": 12,
     "status": "ok",
     "timestamp": 1755509970784,
     "user": {
      "displayName": "K.Saivenkat",
      "userId": "04970572984915380454"
     },
     "user_tz": -330
    },
    "id": "6kB3fOCThM1y",
    "outputId": "02fd7493-dcf4-4535-c3a9-a59070fbf469"
   },
   "outputs": [],
   "source": [
    "df[df['Course Name'].isna()].shape[0]"
   ]
  },
  {
   "cell_type": "code",
   "execution_count": null,
   "metadata": {
    "colab": {
     "base_uri": "https://localhost:8080/",
     "height": 490
    },
    "executionInfo": {
     "elapsed": 61,
     "status": "ok",
     "timestamp": 1755510009977,
     "user": {
      "displayName": "K.Saivenkat",
      "userId": "04970572984915380454"
     },
     "user_tz": -330
    },
    "id": "f_deM8_zhawy",
    "outputId": "3dc8e5a2-e596-463b-9b1e-46f8cbf99bc1"
   },
   "outputs": [],
   "source": [
    "df['Course Name'].value_counts()"
   ]
  },
  {
   "cell_type": "code",
   "execution_count": null,
   "metadata": {
    "colab": {
     "base_uri": "https://localhost:8080/"
    },
    "executionInfo": {
     "elapsed": 30,
     "status": "ok",
     "timestamp": 1755510082617,
     "user": {
      "displayName": "K.Saivenkat",
      "userId": "04970572984915380454"
     },
     "user_tz": -330
    },
    "id": "_vnXY5pHjO7j",
    "outputId": "c990f6f9-c49a-4238-c4da-248726dcddc9"
   },
   "outputs": [],
   "source": [
    "df['Amount'].mean()"
   ]
  },
  {
   "cell_type": "code",
   "execution_count": null,
   "metadata": {
    "colab": {
     "base_uri": "https://localhost:8080/",
     "height": 492
    },
    "executionInfo": {
     "elapsed": 23,
     "status": "ok",
     "timestamp": 1755510124384,
     "user": {
      "displayName": "K.Saivenkat",
      "userId": "04970572984915380454"
     },
     "user_tz": -330
    },
    "id": "3E8H797YjgrE",
    "outputId": "31546211-7eed-470e-9ddf-77e789646fee"
   },
   "outputs": [],
   "source": [
    "df['Choice 1 City'].value_counts()"
   ]
  },
  {
   "cell_type": "code",
   "execution_count": null,
   "metadata": {
    "colab": {
     "base_uri": "https://localhost:8080/",
     "height": 680
    },
    "executionInfo": {
     "elapsed": 24,
     "status": "ok",
     "timestamp": 1755510322725,
     "user": {
      "displayName": "K.Saivenkat",
      "userId": "04970572984915380454"
     },
     "user_tz": -330
    },
    "id": "3TrxQIwqjq3y",
    "outputId": "a4e0d95f-0215-408e-d5fc-fbaffaa3665d"
   },
   "outputs": [],
   "source": [
    "df.isnull().sum()"
   ]
  },
  {
   "cell_type": "code",
   "execution_count": null,
   "metadata": {
    "colab": {
     "base_uri": "https://localhost:8080/",
     "height": 480
    },
    "executionInfo": {
     "elapsed": 564,
     "status": "ok",
     "timestamp": 1755510932100,
     "user": {
      "displayName": "K.Saivenkat",
      "userId": "04970572984915380454"
     },
     "user_tz": -330
    },
    "id": "yNW8UzVpkbSx",
    "outputId": "85572509-af40-44f3-ff49-f891f2b70001"
   },
   "outputs": [],
   "source": [
    "import matplotlib.pyplot as plt\n",
    "import numpy as np\n",
    "X_points=np.array((0,10))\n",
    "Y_points=np.array((0,100))\n",
    "plt.xlabel('X-axis')\n",
    "plt.ylabel('Y-axis')\n",
    "plt.title('Line Plot',fontsize=20,loc='center')\n",
    "plt.plot(X_points,Y_points,linestyle='dashed',color='green',lw=4.5,label='Line 1')\n",
    "X_points=np.array((5,20))\n",
    "Y_points=np.array((30,80))\n",
    "plt.plot(X_points,Y_points,linestyle='dotted',color='red',lw=4.5,label='Line 2')\n",
    "plt.grid(axis='x')\n",
    "plt.legend()\n",
    "plt.show()"
   ]
  },
  {
   "cell_type": "code",
   "execution_count": null,
   "metadata": {
    "colab": {
     "base_uri": "https://localhost:8080/",
     "height": 480
    },
    "executionInfo": {
     "elapsed": 248,
     "status": "ok",
     "timestamp": 1755512079497,
     "user": {
      "displayName": "K.Saivenkat",
      "userId": "04970572984915380454"
     },
     "user_tz": -330
    },
    "id": "knd9y5ZOluoD",
    "outputId": "0daf0075-5222-421d-ac2e-f218bf34d790"
   },
   "outputs": [],
   "source": [
    "import matplotlib.pyplot as plt\n",
    "import numpy as np\n",
    "X_points=np.random.normal((19,20,30))\n",
    "Y_points=np.random.normal((100,10,200))\n",
    "plt.xlabel('X-axis')\n",
    "plt.ylabel('Y-axis')\n",
    "plt.title('Line Plot',fontsize=20,loc='center')\n",
    "plt.plot(X_points,Y_points,linestyle='dashed',color='green',lw=4.5,label='Line 1',marker='o',mec='blue')\n",
    "X_points=np.random.normal((10,5,7))\n",
    "Y_points=np.random.normal((11,12,13))\n",
    "plt.plot(X_points,Y_points,linestyle='dotted',color='red',lw=4.5,label='Line 2',marker='D',mec='yellow')\n",
    "plt.grid(axis='x')\n",
    "plt.legend()\n",
    "plt.show()"
   ]
  },
  {
   "cell_type": "code",
   "execution_count": null,
   "metadata": {
    "colab": {
     "base_uri": "https://localhost:8080/",
     "height": 491
    },
    "executionInfo": {
     "elapsed": 182,
     "status": "ok",
     "timestamp": 1755513665466,
     "user": {
      "displayName": "K.Saivenkat",
      "userId": "04970572984915380454"
     },
     "user_tz": -330
    },
    "id": "RGPGTkKgt0ow",
    "outputId": "0c938fd6-ddcd-4452-f3cf-646f21f8888e"
   },
   "outputs": [],
   "source": [
    "xp=np.array(['x','y','z'])\n",
    "yp=np.array([1,2,3])\n",
    "colors=['red','green','blue']\n",
    "plt.barh(xp,yp,color=colors,label=colors,edgecolor='black',height=.4,)\n",
    "plt.xlabel('X-axis')\n",
    "plt.ylabel('Y-axis')\n",
    "plt.title('Bar Plot',fontsize=20,loc='left')\n",
    "plt.xticks(rotation=45)\n",
    "plt.grid()\n",
    "plt.legend()\n",
    "plt.show()"
   ]
  },
  {
   "cell_type": "code",
   "execution_count": null,
   "metadata": {
    "colab": {
     "base_uri": "https://localhost:8080/",
     "height": 436
    },
    "executionInfo": {
     "elapsed": 238,
     "status": "ok",
     "timestamp": 1755514203577,
     "user": {
      "displayName": "K.Saivenkat",
      "userId": "04970572984915380454"
     },
     "user_tz": -330
    },
    "id": "D-nE7UrMuEDQ",
    "outputId": "6aca474a-8828-4274-e8df-cc22db1f0d20"
   },
   "outputs": [],
   "source": [
    "sizes=np.array([20,30,25,25])\n",
    "labels=np.array(['A','B','C','D'])\n",
    "colors=np.array(['red','green','blue','orange'])\n",
    "explode=(0.2,0,0,0)\n",
    "plt.pie(sizes,labels=labels,colors=colors,explode=explode,autopct='%1.1f%%',shadow=True,startangle=90,wedgeprops={'edgecolor':'black'},pctdistance=0.7,labeldistance=1.1)\n",
    "plt.title('Pie Chart',fontsize=20,loc='center',color='red')\n",
    "plt.legend(title='Categories',loc='lower right')\n",
    "plt.show()"
   ]
  },
  {
   "cell_type": "code",
   "execution_count": null,
   "metadata": {
    "colab": {
     "base_uri": "https://localhost:8080/",
     "height": 480
    },
    "executionInfo": {
     "elapsed": 188,
     "status": "ok",
     "timestamp": 1755514587253,
     "user": {
      "displayName": "K.Saivenkat",
      "userId": "04970572984915380454"
     },
     "user_tz": -330
    },
    "id": "wk4TpaWqzOtA",
    "outputId": "0d6f691c-92ca-4e8b-cb1a-b407039bebca"
   },
   "outputs": [],
   "source": [
    "x_points=np.random.normal(15,20,250)\n",
    "plt.hist(x_points)\n",
    "plt.xlabel('X-axis')\n",
    "plt.ylabel('Y-axis')\n",
    "plt.title('Histogram',fontsize=20,loc='center')\n",
    "plt.grid()\n",
    "plt.show()"
   ]
  },
  {
   "cell_type": "code",
   "execution_count": null,
   "metadata": {
    "id": "DAzlUH0D0sY_"
   },
   "outputs": [],
   "source": []
  }
 ],
 "metadata": {
  "colab": {
   "authorship_tag": "ABX9TyPaApioPrSV4KLrpX0HPrym",
   "provenance": []
  },
  "kernelspec": {
   "display_name": "Python 3",
   "name": "python3"
  },
  "language_info": {
   "codemirror_mode": {
    "name": "ipython",
    "version": 3
   },
   "file_extension": ".py",
   "mimetype": "text/x-python",
   "name": "python",
   "nbconvert_exporter": "python",
   "pygments_lexer": "ipython3",
   "version": "3.12.8"
  }
 },
 "nbformat": 4,
 "nbformat_minor": 0
}
