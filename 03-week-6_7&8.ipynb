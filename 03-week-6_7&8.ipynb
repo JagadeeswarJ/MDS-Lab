{
 "cells": [
  {
   "cell_type": "code",
   "execution_count": null,
   "metadata": {
    "id": "Fht1OILuTQCG"
   },
   "outputs": [],
   "source": [
    "\n",
    "import pandas as pd\n",
    "import numpy as np\n",
    "import matplotlib.pyplot as plt\n",
    "\n",
    "df = pd.read_csv('data/nptel.csv')  # Local path"
   ]
  },
  {
   "cell_type": "code",
   "execution_count": null,
   "metadata": {
    "colab": {
     "base_uri": "https://localhost:8080/",
     "height": 573
    },
    "executionInfo": {
     "elapsed": 141,
     "status": "ok",
     "timestamp": 1755506102503,
     "user": {
      "displayName": "K.Saivenkat",
      "userId": "04970572984915380454"
     },
     "user_tz": -330
    },
    "id": "dCLz6xAdUSg1",
    "outputId": "45a16cad-0747-461c-87bb-4a17d8b6c4e9"
   },
   "outputs": [],
   "source": [
    "## Section 2: Initial Data Exploration\n",
    "\n",
    "df.head()   "
   ]
  },
  {
   "cell_type": "code",
   "execution_count": null,
   "metadata": {
    "colab": {
     "base_uri": "https://localhost:8080/"
    },
    "executionInfo": {
     "elapsed": 5,
     "status": "ok",
     "timestamp": 1755506574545,
     "user": {
      "displayName": "K.Saivenkat",
      "userId": "04970572984915380454"
     },
     "user_tz": -330
    },
    "id": "fsTfCnDhUU8F",
    "outputId": "9510152b-a584-4c10-c091-2231e01ab318"
   },
   "outputs": [],
   "source": [
    "# Check the dimensions of the dataset (rows, columns)\n",
    "print(f\"Dataset shape: {df.shape}\")\n",
    "print(f\"Number of records: {df.shape[0]}\")\n",
    "print(f\"Number of columns: {df.shape[1]}\")"
   ]
  },
  {
   "cell_type": "code",
   "execution_count": null,
   "metadata": {
    "colab": {
     "base_uri": "https://localhost:8080/"
    },
    "executionInfo": {
     "elapsed": 8,
     "status": "ok",
     "timestamp": 1755506582290,
     "user": {
      "displayName": "K.Saivenkat",
      "userId": "04970572984915380454"
     },
     "user_tz": -330
    },
    "id": "2OLEyCAYWGrF",
    "outputId": "1341825f-2b7a-4cfd-ed81-e66b3d0e0b91"
   },
   "outputs": [],
   "source": [
    "df.info()"
   ]
  },
  {
   "cell_type": "code",
   "execution_count": null,
   "metadata": {
    "colab": {
     "base_uri": "https://localhost:8080/",
     "height": 423
    },
    "executionInfo": {
     "elapsed": 39,
     "status": "ok",
     "timestamp": 1755506818720,
     "user": {
      "displayName": "K.Saivenkat",
      "userId": "04970572984915380454"
     },
     "user_tz": -330
    },
    "id": "NVjNfgk9WKGk",
    "outputId": "cdc35cf2-1717-465b-f923-6550b6c66ef8"
   },
   "outputs": [],
   "source": [
    "# Display all column names\n",
    "print(\"Dataset columns:\")\n",
    "print(df.columns.tolist())"
   ]
  },
  {
   "cell_type": "code",
   "execution_count": null,
   "metadata": {
    "colab": {
     "base_uri": "https://localhost:8080/",
     "height": 490
    },
    "executionInfo": {
     "elapsed": 45,
     "status": "ok",
     "timestamp": 1755506895744,
     "user": {
      "displayName": "K.Saivenkat",
      "userId": "04970572984915380454"
     },
     "user_tz": -330
    },
    "id": "RFjNEvTZWwAF",
    "outputId": "f079db8f-9c0e-4a3e-af7d-bd84724912ba"
   },
   "outputs": [],
   "source": [
    "# Data Selection and Filtering\n",
    "\n",
    "selected_columns = df[['Name', 'Course Name', 'Choice 1 City']]\n",
    "print(\"Selected columns preview:\")\n",
    "selected_columns.head()"
   ]
  },
  {
   "cell_type": "code",
   "execution_count": null,
   "metadata": {
    "colab": {
     "base_uri": "https://localhost:8080/"
    },
    "executionInfo": {
     "elapsed": 11,
     "status": "ok",
     "timestamp": 1755508798325,
     "user": {
      "displayName": "K.Saivenkat",
      "userId": "04970572984915380454"
     },
     "user_tz": -330
    },
    "id": "Eq-Gzd-qdWyb",
    "outputId": "9c216c09-8abf-4d2b-b8e6-d2b76ba2e8d3"
   },
   "outputs": [],
   "source": [
    "# Analyze course popularity\n",
    "print(\"Course enrollment distribution:\")\n",
    "course_counts = df['Course Name'].value_counts()\n",
    "print(course_counts)"
   ]
  },
  {
   "cell_type": "code",
   "execution_count": null,
   "metadata": {
    "colab": {
     "base_uri": "https://localhost:8080/",
     "height": 930
    },
    "executionInfo": {
     "elapsed": 110,
     "status": "ok",
     "timestamp": 1755507019400,
     "user": {
      "displayName": "K.Saivenkat",
      "userId": "04970572984915380454"
     },
     "user_tz": -330
    },
    "id": "LGw_B1WJXWn0",
    "outputId": "259edb03-38cf-45a6-91e3-ac7b44e25a4f"
   },
   "outputs": [],
   "source": [
    "# Filter data by department (if Department column exists)\n",
    "# Note: Check if 'Department' column exists in your dataset\n",
    "if 'Department' in df.columns:\n",
    "    data_science_records = df[df['Department'] == 'data_science']\n",
    "    print(f\"Number of Data Science department records: {data_science_records.shape[0]}\")\n",
    "else:\n",
    "    print(\"Department column not found in dataset\")"
   ]
  },
  {
   "cell_type": "code",
   "execution_count": null,
   "metadata": {
    "colab": {
     "base_uri": "https://localhost:8080/"
    },
    "executionInfo": {
     "elapsed": 7,
     "status": "ok",
     "timestamp": 1755508817423,
     "user": {
      "displayName": "K.Saivenkat",
      "userId": "04970572984915380454"
     },
     "user_tz": -330
    },
    "id": "HS2Jdxdrepiz",
    "outputId": "af97e678-941d-401a-d31b-b2cda489dc41"
   },
   "outputs": [],
   "source": [
    "# Filter registrations by city\n",
    "hyderabad_registrations = df[df['Choice 1 City'] == 'Hyderabad']\n",
    "print(f\"Number of registrations for Hyderabad: {len(hyderabad_registrations)}\")\n",
    "print(\"\\nSample records:\")\n",
    "hyderabad_registrations.head()"
   ]
  },
  {
   "cell_type": "code",
   "execution_count": null,
   "metadata": {
    "colab": {
     "base_uri": "https://localhost:8080/",
     "height": 104
    },
    "executionInfo": {
     "elapsed": 42,
     "status": "ok",
     "timestamp": 1755507267385,
     "user": {
      "displayName": "K.Saivenkat",
      "userId": "04970572984915380454"
     },
     "user_tz": -330
    },
    "id": "6z1Iwe2pX0zE",
    "outputId": "316defc5-4c62-4791-94e4-ca4a0110f7b4"
   },
   "outputs": [],
   "source": [
    "## Section 4: Data Quality Analysis\n",
    "\n",
    "missing_or_zero_amounts = df[df['Amount'].isna() | (df['Amount'] == 0)]\n",
    "print(f\"Records with missing or zero amounts: {len(missing_or_zero_amounts)}\")\n",
    "missing_or_zero_amounts.head()"
   ]
  },
  {
   "cell_type": "code",
   "execution_count": 21,
   "metadata": {},
   "outputs": [
    {
     "name": "stdout",
     "output_type": "stream",
     "text": [
      "3\n"
     ]
    }
   ],
   "source": [
    "print(np.array([True,False,True,True]).sum())"
   ]
  },
  {
   "cell_type": "code",
   "execution_count": 19,
   "metadata": {
    "executionInfo": {
     "elapsed": 45,
     "status": "ok",
     "timestamp": 1755507610616,
     "user": {
      "displayName": "K.Saivenkat",
      "userId": "04970572984915380454"
     },
     "user_tz": -330
    },
    "id": "ITZPl8XeYxWk"
   },
   "outputs": [
    {
     "name": "stdout",
     "output_type": "stream",
     "text": [
      "After 2025-07-01: (2512, 19)\n",
      "\n",
      "Sorted Exam Dates:\n",
      " 2460   2025-09-20\n",
      "1644   2025-09-20\n",
      "2484   2025-09-20\n",
      "2107   2025-09-20\n",
      "2486   2025-09-20\n",
      "          ...    \n",
      "1699   2025-11-02\n",
      "1704   2025-11-02\n",
      "1707   2025-11-02\n",
      "1671   2025-11-02\n",
      "1805   2025-11-02\n",
      "Name: Exam Date, Length: 2512, dtype: datetime64[ns]\n",
      "\n",
      "Amounts :\n",
      " 2328    1100\n",
      "2335    1100\n",
      "2467    1100\n",
      "2434    1100\n",
      "2478    1100\n",
      "        ... \n",
      "60       500\n",
      "58       500\n",
      "52       500\n",
      "51       500\n",
      "664      250\n",
      "Name: Amount, Length: 2512, dtype: int64\n",
      "\n",
      "Sorted by Course & City:\n",
      "       S.no                Name                      Emailid     Role  Gender  \\\n",
      "2077  2078    K V N A BHARGAVI  bhargavi.varala99@gmail.com  faculty  female   \n",
      "1644  1645         Manda Pavan       22071a7247@vnrvjiet.in  student    male   \n",
      "2141  2142  Ginjupally Tapaswi        ginjupallyt@gmail.com  student  female   \n",
      "1900  1901  Burjukindi Uharika       23075a0522@vnrvjiet.in  student  female   \n",
      "1902  1903      Jouna Srilaxmi       23075a0524@vnrvjiet.in  student  female   \n",
      "\n",
      "     College Roll Number Degree                        Department Study year  \\\n",
      "2077                 NaN    NaN  computer_science_and_engineering        NaN   \n",
      "1644          22071a7247  btech  computer_science_and_engineering     year_4   \n",
      "2141          23071A0187  btech                 civil_engineering     year_3   \n",
      "1900          23075A0522  btech  computer_science_and_engineering     year_4   \n",
      "1902          23075A0524  btech  computer_science_and_engineering     year_4   \n",
      "\n",
      "      Exam Date                                        Course Name  \\\n",
      "2077 2025-10-25                        5G Wireless Standard Design   \n",
      "1644 2025-09-20  Advanced Algorithmic Trading and Portfolio Man...   \n",
      "2141 2025-10-25                       Advanced Concrete Technology   \n",
      "1900 2025-11-02                       Advanced Distributed Systems   \n",
      "1902 2025-11-02                       Advanced Distributed Systems   \n",
      "\n",
      "           Course id Choice 1 State Choice 1 City PWD status  SC/ST status  \\\n",
      "2077  ns_noc25_ee172      Telangana     Hyderabad        NaN         False   \n",
      "1644  ns_noc25_mg118      Telangana     Hyderabad        NaN         False   \n",
      "2141   ns_noc25_ce73      Telangana     Hyderabad        NaN         False   \n",
      "1900   ns_noc25_cs84      Telangana     Hyderabad        NaN         False   \n",
      "1902   ns_noc25_cs84      Telangana     Hyderabad        NaN         False   \n",
      "\n",
      "      FDP status  Amount            Status  \n",
      "2077        True    1100  payment_complete  \n",
      "1644       False    1000  payment_complete  \n",
      "2141       False    1000  payment_complete  \n",
      "1900       False    1000  payment_complete  \n",
      "1902       False    1000  payment_complete  \n",
      "\n",
      "Null analysis:\n",
      "PWD status : 2502\n",
      "Choice 1 City : 0\n",
      "Course Name : 0\n",
      "\n",
      "Course dist:\n",
      " Course Name\n",
      "Responsible & Safe AI Systems                         417\n",
      "Microsensors and Nanosensors                          303\n",
      "Software Project Management                           239\n",
      "Artificial Intelligence: Concepts and Techniques      203\n",
      "Introduction to Internet of Things                    181\n",
      "                                                     ... \n",
      "Low Voltage CMOS Circuit Operation                      1\n",
      "Pavement Construction Technology                        1\n",
      "Climate Change - Extreme Events                         1\n",
      "Structural Analysis of Nanomaterials                    1\n",
      "Aluminium based Alloys and Metal Matrix Composites      1\n",
      "Name: count, Length: 118, dtype: int64\n",
      "\n",
      "Mean Amount: 924.9800955414013\n",
      "\n",
      "City dist:\n",
      " Choice 1 City\n",
      "Hyderabad        2462\n",
      "Warangal           18\n",
      "Karimnagar         13\n",
      "Nizamabad           6\n",
      "Mahbubnagar         3\n",
      "Bengaluru           3\n",
      "Vijayawada          2\n",
      "Gudlavalleru        1\n",
      "Nagpur              1\n",
      "Ongole              1\n",
      "Chennai-South       1\n",
      "Nanded              1\n",
      "Name: count, dtype: int64\n",
      "\n",
      "Null summary:\n",
      " S.no                      0\n",
      "Name                      0\n",
      "Emailid                   0\n",
      "Role                      0\n",
      "Gender                    0\n",
      "College Roll Number     121\n",
      "Degree                   80\n",
      "Department                0\n",
      "Study year               80\n",
      "Exam Date                 0\n",
      "Course Name               0\n",
      "Course id                 0\n",
      "Choice 1 State            0\n",
      "Choice 1 City             0\n",
      "PWD status             2502\n",
      "SC/ST status              0\n",
      "FDP status                0\n",
      "Amount                    0\n",
      "Status                    0\n",
      "dtype: int64\n"
     ]
    }
   ],
   "source": [
    "df['Exam Date'] = pd.to_datetime(df['Exam Date'])\n",
    "\n",
    "print(\"After 2025-07-01:\", df[df['Exam Date'] > '2025-07-01'].shape)\n",
    "print(\"\\nSorted Exam Dates:\\n\", df['Exam Date'].sort_values())\n",
    "print(\"\\nAmounts :\\n\", df['Amount'].sort_values(ascending=False))\n",
    "print(\"\\nSorted by Course & City:\\n\", df.sort_values(['Course Name','Choice 1 City']).head())\n",
    "\n",
    "print(\"\\nNull analysis:\")\n",
    "for col in ['PWD status','Choice 1 City','Course Name']:\n",
    "    print(col, \":\", df[col].isna().sum())\n",
    "\n",
    "print(\"\\nCourse dist:\\n\", df['Course Name'].value_counts())\n",
    "print(\"\\nMean Amount:\", df['Amount'].mean())\n",
    "print(\"\\nCity dist:\\n\", df['Choice 1 City'].value_counts())\n",
    "print(\"\\nNull summary:\\n\", df.isnull().sum())\n"
   ]
  },
  {
   "cell_type": "code",
   "execution_count": 31,
   "metadata": {
    "colab": {
     "base_uri": "https://localhost:8080/"
    },
    "executionInfo": {
     "elapsed": 39,
     "status": "ok",
     "timestamp": 1755509350783,
     "user": {
      "displayName": "K.Saivenkat",
      "userId": "04970572984915380454"
     },
     "user_tz": -330
    },
    "id": "AeAIU6_HaPTE",
    "outputId": "2f17fa1b-4678-4214-c86f-3412c9ca3301"
   },
   "outputs": [
    {
     "data": {
      "image/png": "[encoded data removed]",
      "text/plain": [
       "<Figure size 640x480 with 1 Axes>"
      ]
     },
     "metadata": {},
     "output_type": "display_data"
    }
   ],
   "source": [
    "# Basic line plot\n",
    "import matplotlib.pyplot as plt\n",
    "import numpy as np\n",
    "X_points = np.array((0, 10))\n",
    "Y_points = np.array((0, 100))\n",
    "plt.xlabel('X-axis')\n",
    "plt.ylabel('Y-axis')\n",
    "plt.title('Line Plot', fontsize=30, loc='center')\n",
    "plt.plot(X_points, Y_points, linestyle='dashed', color='green', lw=4.5, label='Line 1')\n",
    "X_points = np.array((5, 20))\n",
    "Y_points = np.array((30, 80))\n",
    "plt.plot(X_points, Y_points, linestyle='dotted', color='red', lw=4.5, label='Line 2')\n",
    "plt.grid(axis='both')\n",
    "plt.legend()\n",
    "plt.show()"
   ]
  },
  {
   "cell_type": "code",
   "execution_count": 38,
   "metadata": {
    "colab": {
     "base_uri": "https://localhost:8080/",
     "height": 491
    },
    "executionInfo": {
     "elapsed": 182,
     "status": "ok",
     "timestamp": 1755513665466,
     "user": {
      "displayName": "K.Saivenkat",
      "userId": "04970572984915380454"
     },
     "user_tz": -330
    },
    "id": "RGPGTkKgt0ow",
    "outputId": "0c938fd6-ddcd-4452-f3cf-646f21f8888e"
   },
   "outputs": [
    {
     "data": {
      "image/png": "[encoded data removed]",
      "text/plain": [
       "<Figure size 640x480 with 1 Axes>"
      ]
     },
     "metadata": {},
     "output_type": "display_data"
    }
   ],
   "source": [
    "xp=np.array(['x','y','z'])\n",
    "yp=np.array([1,2,3])\n",
    "colors=['red','green','blue']\n",
    "plt.barh(xp,yp,color=colors,label=colors,edgecolor='black',height=.4,align='edge')\n",
    "plt.xlabel('X-axis')\n",
    "plt.ylabel('Y-axis')\n",
    "plt.title('Bar Plot',fontsize=20,loc='left')\n",
    "plt.xticks(rotation=45)\n",
    "plt.yticks(rotation=180)\n",
    "plt.grid()\n",
    "plt.legend()\n",
    "plt.show()"
   ]
  },
  {
   "cell_type": "code",
   "execution_count": 33,
   "metadata": {
    "colab": {
     "base_uri": "https://localhost:8080/",
     "height": 480
    },
    "executionInfo": {
     "elapsed": 188,
     "status": "ok",
     "timestamp": 1755514587253,
     "user": {
      "displayName": "K.Saivenkat",
      "userId": "04970572984915380454"
     },
     "user_tz": -330
    },
    "id": "wk4TpaWqzOtA",
    "outputId": "0d6f691c-92ca-4e8b-cb1a-b407039bebca"
   },
   "outputs": [
    {
     "data": {
      "image/png": "[encoded data removed]",
      "text/plain": [
       "<Figure size 640x480 with 1 Axes>"
      ]
     },
     "metadata": {},
     "output_type": "display_data"
    }
   ],
   "source": [
    "x_points=np.random.normal(15,20,250)\n",
    "plt.hist(x_points)\n",
    "plt.xlabel('X-axis')\n",
    "plt.ylabel('Y-axis')\n",
    "plt.title('Histogram',fontsize=20,loc='center')\n",
    "plt.grid()\n",
    "plt.show()"
   ]
  }
 ],
 "metadata": {
  "colab": {
   "authorship_tag": "ABX9TyPaApioPrSV4KLrpX0HPrym",
   "provenance": []
  },
  "kernelspec": {
   "display_name": "Python 3",
   "name": "python3"
  },
  "language_info": {
   "codemirror_mode": {
    "name": "ipython",
    "version": 3
   },
   "file_extension": ".py",
   "mimetype": "text/x-python",
   "name": "python",
   "nbconvert_exporter": "python",
   "pygments_lexer": "ipython3",
   "version": "3.12.8"
  }
 },
 "nbformat": 4,
 "nbformat_minor": 0
}
