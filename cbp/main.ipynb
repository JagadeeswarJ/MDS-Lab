{
 "cells": [
  {
   "cell_type": "markdown",
   "id": "36d20bbd",
   "metadata": {},
   "source": [
    "# stock price prediction"
   ]
  },
  {
   "cell_type": "code",
   "execution_count": null,
   "id": "882eef4a",
   "metadata": {},
   "outputs": [],
   "source": [
    "%pip install yfinance\n"
   ]
  },
  {
   "cell_type": "code",
   "execution_count": 2,
   "id": "d4f69fe7",
   "metadata": {},
   "outputs": [
    {
     "name": "stderr",
     "output_type": "stream",
     "text": [
      "C:\\Users\\jagad\\AppData\\Local\\Temp\\ipykernel_16488\\3804333240.py:2: FutureWarning: YF.download() has changed argument auto_adjust default to True\n",
      "  data = yf.download(\"AAPL\", start=\"2015-01-01\", end=\"2024-01-01\")\n",
      "[*********************100%***********************]  1 of 1 completed"
     ]
    },
    {
     "name": "stdout",
     "output_type": "stream",
     "text": [
      "Price           Close       High        Low       Open     Volume\n",
      "Ticker           AAPL       AAPL       AAPL       AAPL       AAPL\n",
      "Date                                                             \n",
      "2015-01-02  24.261045  24.729268  23.821670  24.718172  212818400\n",
      "2015-01-05  23.577572  24.110148  23.391171  24.030261  257142000\n",
      "2015-01-06  23.579796  23.839426  23.218087  23.641929  263188400\n",
      "2015-01-07  23.910433  24.010290  23.677430  23.788384  160423600\n",
      "2015-01-08  24.829128  24.886824  24.121246  24.238858  237458000\n"
     ]
    },
    {
     "name": "stderr",
     "output_type": "stream",
     "text": [
      "\n"
     ]
    }
   ],
   "source": [
    "import yfinance as yf\n",
    "data = yf.download(\"AAPL\", start=\"2015-01-01\", end=\"2024-01-01\")\n",
    "print(data.head())"
   ]
  }
 ],
 "metadata": {
  "kernelspec": {
   "display_name": "Python 3",
   "language": "python",
   "name": "python3"
  },
  "language_info": {
   "codemirror_mode": {
    "name": "ipython",
    "version": 3
   },
   "file_extension": ".py",
   "mimetype": "text/x-python",
   "name": "python",
   "nbconvert_exporter": "python",
   "pygments_lexer": "ipython3",
   "version": "3.12.8"
  }
 },
 "nbformat": 4,
 "nbformat_minor": 5
}
