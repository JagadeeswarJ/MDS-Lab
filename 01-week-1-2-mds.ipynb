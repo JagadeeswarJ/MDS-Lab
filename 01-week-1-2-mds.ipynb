{
 "cells": [
  {
   "cell_type": "markdown",
   "metadata": {
    "id": "ZqCeMDToNjLj"
   },
   "source": [
    "# Week 1\n"
   ]
  },
  {
   "cell_type": "markdown",
   "metadata": {
    "id": "2WlGtb3mRa2D"
   },
   "source": []
  },
  {
   "cell_type": "code",
   "execution_count": 2,
   "metadata": {
    "id": "-0RTUfg8HKCE"
   },
   "outputs": [
    {
     "name": "stdout",
     "output_type": "stream",
     "text": [
      "[1 2 3]\n",
      "[1, 2, 3, 4, 5]\n",
      "[1, 2, 3, 4]\n",
      "<class 'numpy.ndarray'>\n",
      "<class 'list'>\n",
      "<class 'list'>\n",
      "int64\n",
      "3\n",
      "1\n",
      "3rd element: 30\n",
      "(3,)\n",
      "3\n",
      "[[1 2 3]\n",
      " [4 5 6]]\n",
      "(2, 3)\n",
      "6\n",
      "[[1 2 3]\n",
      " [4 5 6]]\n",
      "(2, 3)\n",
      "6\n"
     ]
    }
   ],
   "source": [
    "import numpy as np\n",
    "arr = np.array([1,2,3],)\n",
    "a1 = [1,2,3,4,5]\n",
    "b = list([1,2,3,4])\n",
    "print(arr)\n",
    "print(a1)\n",
    "print(b)\n",
    "\n",
    "print(type(arr))\n",
    "print(type(a1))\n",
    "print(type(b))\n",
    "type(b)\n",
    "print(arr.dtype)\n",
    "\n",
    "print(arr[2])\n",
    "print(arr[0])\n",
    "# array are mutable\n",
    "arr[2] = 30\n",
    "print(f'3rd element: {arr[2]}')\n",
    "\n",
    "print(arr.shape)\n",
    "print(arr.size)\n",
    "matrix  = np.array([[1,2,3],[4,5,6]])\n",
    "print(matrix)\n",
    "print(matrix.shape)\n",
    "print(matrix.size)\n",
    "matrix.reshape(3,2)\n",
    "print(matrix)\n",
    "print(matrix.shape)\n",
    "print(matrix.size)\n",
    "\n"
   ]
  },
  {
   "cell_type": "markdown",
   "metadata": {
    "id": "N5GbjPESNikF"
   },
   "source": [
    "\n"
   ]
  },
  {
   "cell_type": "code",
   "execution_count": 3,
   "metadata": {
    "colab": {
     "base_uri": "https://localhost:8080/"
    },
    "executionInfo": {
     "elapsed": 23,
     "status": "ok",
     "timestamp": 1753090629342,
     "user": {
      "displayName": "Jagadeeswar Jonnadula",
      "userId": "17650729024242159361"
     },
     "user_tz": -330
    },
    "id": "RZ-nuByYSb2z",
    "outputId": "941c63f3-bf35-4c03-c3b3-80ca36679bd7"
   },
   "outputs": [
    {
     "name": "stdout",
     "output_type": "stream",
     "text": [
      "[[1 2 3]\n",
      " [4 5 6]\n",
      " [4 5 6]\n",
      " [4 5 6]]\n",
      "12\n",
      "(4, 3)\n",
      "[[1 2]\n",
      " [3 4]\n",
      " [5 6]\n",
      " [4 5]\n",
      " [6 4]\n",
      " [5 6]]\n",
      "12\n",
      "(6, 2)\n",
      "6th row and 2nd col: 6\n",
      "ndim: 2\n",
      "itemsize: 8\n",
      "[[[1 2 3 4 5]\n",
      "  [1 2 3 4 7]]]\n",
      "(1, 2, 5)\n",
      "3\n",
      "[4 6]\n",
      "[9 8 7 6 5]\n",
      "[9 8 7 6 5 4 3 2 1]\n",
      "[2 4 6 8]\n"
     ]
    }
   ],
   "source": [
    "a = np.array([[1,2,3],[4,5,6],[4,5,6],[4,5,6]])\n",
    "\n",
    "print(a)\n",
    "print(a.size)\n",
    "print(a.shape)\n",
    "b = a.reshape(6,2)\n",
    "print(b)\n",
    "print(b.size)\n",
    "print(b.shape)\n",
    "print(f'6th row and 2nd col: {b[5][1]}')\n",
    "print(f'ndim: {a.ndim}')\n",
    "print(f'itemsize: {a.itemsize}')\n",
    "c  = np.array([[1,2,3,4,5],[1,2,3,4,7]],ndmin=3)\n",
    "print(c)\n",
    "print(c.shape)\n",
    "print(c.ndim)\n",
    "\n",
    "#Slicing\n",
    "s1 = np.array([1,2,3,4,5,6,7,8,9])\n",
    "print(s1[3:6:2])\n",
    "print(s1[-1:-6:-1])\n",
    "\n",
    "# print in reverse\n",
    "print(s1[::-1])\n",
    "#printing with step\n",
    "print(s1[1:10:2])\n"
   ]
  },
  {
   "cell_type": "code",
   "execution_count": 4,
   "metadata": {
    "colab": {
     "base_uri": "https://localhost:8080/"
    },
    "executionInfo": {
     "elapsed": 10,
     "status": "ok",
     "timestamp": 1753091056690,
     "user": {
      "displayName": "Jagadeeswar Jonnadula",
      "userId": "17650729024242159361"
     },
     "user_tz": -330
    },
    "id": "xUAKlZBZWU0z",
    "outputId": "afafc60a-9e6d-4de7-fc2d-8767d55fb12c"
   },
   "outputs": [
    {
     "name": "stdout",
     "output_type": "stream",
     "text": [
      "[ 10  20  30  40  50  60  70  80  90 100]\n",
      "10\n",
      "(10,)\n",
      "[[ 10]\n",
      " [ 20]\n",
      " [ 30]\n",
      " [ 40]\n",
      " [ 50]\n",
      " [ 60]\n",
      " [ 70]\n",
      " [ 80]\n",
      " [ 90]\n",
      " [100]]\n",
      "10\n",
      "(10, 1)\n",
      "[100  80  60  40  20]\n"
     ]
    }
   ],
   "source": [
    "r1 = np.array(range(10,101,10))\n",
    "print(r1)\n",
    "print(r1.size)\n",
    "print(r1.shape)\n",
    "r2 = r1.reshape(10,1)\n",
    "print(r2)\n",
    "print(r2.size)\n",
    "print(r2.shape)\n",
    "# slicing\n",
    "print(r1[::-2])\n"
   ]
  },
  {
   "cell_type": "code",
   "execution_count": 6,
   "metadata": {
    "colab": {
     "base_uri": "https://localhost:8080/"
    },
    "executionInfo": {
     "elapsed": 39,
     "status": "ok",
     "timestamp": 1753091921486,
     "user": {
      "displayName": "Jagadeeswar Jonnadula",
      "userId": "17650729024242159361"
     },
     "user_tz": -330
    },
    "id": "crNL7AuZXwJ6",
    "outputId": "a40107ba-4cb3-437b-9e64-84e23494e001"
   },
   "outputs": [
    {
     "name": "stdout",
     "output_type": "stream",
     "text": [
      "[16, 3, 93, 5, 70, 24, 37, 41, 17, 91, 39, 58, 7, 91, 5, 5, 72, 33, 42, 86, 12, 97, 13, 93, 14, 38, 15, 85, 17, 22, 4, 3, 73, 55, 86, 9, 37, 48, 77, 93, 88, 97, 40, 19, 25, 22, 27, 51, 88, 83, 71, 3, 65, 56, 36, 77, 11, 83, 77, 15, 59, 62, 52, 72, 6, 51, 30, 10, 76, 70, 8, 47, 47, 96, 33, 85, 6, 12, 72, 86, 7, 75, 92, 51, 87, 8, 56, 6, 24, 65, 90, 0, 50, 90, 70, 74, 39, 85, 15]\n",
      "47.717171717171716\n",
      "48.0\n",
      "4724\n",
      "[ 0  3  3  3  4  5  5  5  6  6  6  7  7  8  8  9 10 11 12 12 13 14 15 15\n",
      " 15 16 17 17 19 22 22 24 24 25 27 30 33 33 36 37 37 38 39 39 40 41 42 47\n",
      " 47 48 50 51 51 51 52 55 56 56 58 59 62 65 65 70 70 70 71 72 72 72 73 74\n",
      " 75 76 77 77 77 83 83 85 85 85 86 86 86 87 88 88 90 90 91 91 92 93 93 93\n",
      " 96 97 97]\n",
      "---------------------------------------- matrices ----------------------------------------\n",
      "[[ 11  22  33  44  55]\n",
      " [ 66  77  88  99 110]]\n",
      "[[ -9 -18 -27 -36 -45]\n",
      " [-54 -63 -72 -81 -90]]\n",
      "[[  10   40   90  160  250]\n",
      " [ 360  490  640  810 1000]]\n",
      "[[0.1 0.1 0.1 0.1 0.1]\n",
      " [0.1 0.1 0.1 0.1 0.1]]\n",
      "[[ 11  22  33  44  55]\n",
      " [ 66  77  88  99 110]]\n",
      "[[ -9 -18 -27 -36 -45]\n",
      " [-54 -63 -72 -81 -90]]\n",
      "[[  10   40   90  160  250]\n",
      " [ 360  490  640  810 1000]]\n",
      "[[0.1 0.1 0.1 0.1 0.1]\n",
      " [0.1 0.1 0.1 0.1 0.1]]\n",
      "---------------------------------------- matrices transpose ----------------------------------------\n",
      "[[ 1  6]\n",
      " [ 2  7]\n",
      " [ 3  8]\n",
      " [ 4  9]\n",
      " [ 5 10]]\n",
      "[[ 55 130]\n",
      " [130 330]]\n"
     ]
    }
   ],
   "source": [
    "# statistical functions\n",
    "nums =[]\n",
    "for i in range(1,100):\n",
    "  # nums.append(np.random.randint(0,i))\n",
    "  nums.append(np.random.randint(0,100))\n",
    "print(nums)\n",
    "print(np.average(nums))\n",
    "print(np.median(nums))\n",
    "print(np.sum(nums))\n",
    "print(np.sort(nums))\n",
    "print('-'*40,'matrices','-'*40)\n",
    "mat1 = np.array([[1,2,3,4,5],[6,7,8,9,10]])\n",
    "mat2 = np.array([[10,20,30,40,50],[60,70,80,90,100]])\n",
    "print(mat1+mat2)\n",
    "print(mat1-mat2)\n",
    "print(mat1*mat2)\n",
    "print(mat1/mat2)\n",
    "print(np.add(mat1,mat2))\n",
    "print(np.subtract(mat1,mat2))\n",
    "print(np.multiply(mat1,mat2))\n",
    "print(np.divide(mat1,mat2))\n",
    "print('-'*40,'matrices transpose','-'*40)\n",
    "t_mat1 = np.transpose(mat1)\n",
    "print(t_mat1)\n",
    "print(np.dot(mat1,t_mat1))\n",
    "\n"
   ]
  },
  {
   "cell_type": "code",
   "execution_count": 7,
   "metadata": {
    "id": "lVdAW2m_aTxq"
   },
   "outputs": [
    {
     "name": "stdout",
     "output_type": "stream",
     "text": [
      "[[ 1  6]\n",
      " [ 2  7]\n",
      " [ 3  8]\n",
      " [ 4  9]\n",
      " [ 5 10]]\n",
      "[[ 1  6]\n",
      " [ 2  7]\n",
      " [ 3  8]\n",
      " [ 4  9]\n",
      " [ 5 10]]\n"
     ]
    }
   ],
   "source": [
    "mat1= np.array([[1,2,3,4,5],[6,7,8,9,10]])\n",
    "print(np.transpose(mat1))\n",
    "print(mat1.T)"
   ]
  },
  {
   "cell_type": "code",
   "execution_count": 178,
   "metadata": {
    "colab": {
     "base_uri": "https://localhost:8080/"
    },
    "executionInfo": {
     "elapsed": 11,
     "status": "ok",
     "timestamp": 1753091978741,
     "user": {
      "displayName": "Jagadeeswar Jonnadula",
      "userId": "17650729024242159361"
     },
     "user_tz": -330
    },
    "id": "vNsBcq-WbBVi",
    "outputId": "213baa0f-dadb-4357-dc75-fb719e820a9c"
   },
   "outputs": [
    {
     "name": "stdout",
     "output_type": "stream",
     "text": [
      "[[0. 0.]\n",
      " [0. 0.]]\n",
      "[[1. 1.]\n",
      " [1. 1.]]\n"
     ]
    }
   ],
   "source": [
    "mat2 = np.zeros((2,2))\n",
    "print(mat2)\n",
    "mat3 = np.ones((2,2))\n",
    "print(mat3)"
   ]
  },
  {
   "cell_type": "code",
   "execution_count": 198,
   "metadata": {
    "colab": {
     "base_uri": "https://localhost:8080/"
    },
    "executionInfo": {
     "elapsed": 20,
     "status": "ok",
     "timestamp": 1753092426008,
     "user": {
      "displayName": "Jagadeeswar Jonnadula",
      "userId": "17650729024242159361"
     },
     "user_tz": -330
    },
    "id": "LG8Lbw_-bMAK",
    "outputId": "9d0a866a-b907-47d8-b0c1-0b933d7c405a"
   },
   "outputs": [
    {
     "name": "stdout",
     "output_type": "stream",
     "text": [
      "['apple', 'banana', 'cherry', 'cherry']\n",
      "banana\n",
      "['banana', 'cherry']\n",
      "banana\n"
     ]
    }
   ],
   "source": [
    "str_arr = ['apple','banana','cherry','cherry']\n",
    "print(str_arr)\n",
    "print(str_arr[1])\n",
    "print(str_arr[1:3])\n",
    "str_arr2 = np.array(['apple','banana','cherry'],ndmin=3)\n",
    "print(str_arr2[0][0][1])\n",
    "\n"
   ]
  },
  {
   "cell_type": "code",
   "execution_count": 217,
   "metadata": {
    "colab": {
     "base_uri": "https://localhost:8080/"
    },
    "executionInfo": {
     "elapsed": 7,
     "status": "ok",
     "timestamp": 1753093250122,
     "user": {
      "displayName": "Jagadeeswar Jonnadula",
      "userId": "17650729024242159361"
     },
     "user_tz": -330
    },
    "id": "12skXjhwdoZS",
    "outputId": "b4939fc7-3934-40f0-e42e-147f6c7afee2"
   },
   "outputs": [
    {
     "name": "stdout",
     "output_type": "stream",
     "text": [
      "[[1 2 3]\n",
      " [4 5 6]]\n",
      "[4 4 5 5 6 6]\n",
      "[[ True  True  True]\n",
      " [False False False]]\n"
     ]
    }
   ],
   "source": [
    "# loops\n",
    "nums = np.array([[1,2,3],[4,5,6]])\n",
    "print(nums)\n",
    "print(np.array([j for j in i for i in nums]))\n",
    "arr1 = np.array([1,2,3])\n",
    "arr2 = np.array([1,2,3])\n",
    "print(arr1==nums)"
   ]
  },
  {
   "cell_type": "code",
   "execution_count": null,
   "metadata": {},
   "outputs": [
    {
     "name": "stdout",
     "output_type": "stream",
     "text": [
      "Joined array (axis=0):\n",
      "[[ 1  2  3]\n",
      " [ 4  5  6]\n",
      " [ 7  8  9]\n",
      " [10 11 12]]\n",
      "Split arrays:\n",
      "Part 1:\n",
      "[[1 2 3]]\n",
      "Part 2:\n",
      "[[4 5 6]]\n",
      "Part 3:\n",
      "[[7 8 9]]\n",
      "Part 4:\n",
      "[[10 11 12]]\n"
     ]
    }
   ],
   "source": [
    "import numpy as np\n",
    "\n",
    "# Joining and splitting\n",
    "# Joining arrays\n",
    "arr1 = np.array([[1, 2, 3], [4, 5, 6]])\n",
    "arr2 = np.array([[7, 8, 9], [10, 11, 12]])\n",
    "joined_arr = np.concatenate((arr1, arr2), axis=0)\n",
    "print(\"Joined array (axis=0):\")\n",
    "print(joined_arr)\n",
    "\n",
    "# Splitting arrays\n",
    "parts = 2\n",
    "# parts shoud split array in equal parts, eg: 3 doesn't work\n",
    "split_arr = np.split(joined_arr, parts)\n",
    "print(\"Split arrays:\")\n",
    "# enumerate give indexed list, idx and value\n",
    "for idx, arr_part in enumerate(split_arr):\n",
    "    print(f\"Part {idx+1}:\")\n",
    "    print(arr_part)"
   ]
  },
  {
   "cell_type": "code",
   "execution_count": null,
   "metadata": {
    "id": "Lm5C89-kebWK"
   },
   "outputs": [],
   "source": [
    "# universal functions\n",
    "import numpy as np\n",
    "\n",
    "arr = np.arange(1, 10)\n",
    "print(f\"Original array:\\n{arr}\")\n",
    "# Original array:\n",
    "# [1 2 3 4 5 6 7 8 9]\n",
    "\n",
    "# Using the sqrt ufunc\n",
    "print(f\"\\nSquare root of each element:\\n{np.sqrt(arr)}\")\n",
    "# Square root of each element:\n",
    "# [1.         1.41421356 1.73205081 2.         2.23606798 2.44948974\n",
    "#  2.64575131 2.82842712 3.        ]\n",
    "def test():\n",
    "    print(\"hello\\n\" *30)\n",
    "%timeit test()"
   ]
  }
 ],
 "metadata": {
  "colab": {
   "authorship_tag": "ABX9TyMNxiXDew/VVuJdjVp4IM9O",
   "provenance": []
  },
  "kernelspec": {
   "display_name": "Python 3",
   "name": "python3"
  },
  "language_info": {
   "codemirror_mode": {
    "name": "ipython",
    "version": 3
   },
   "file_extension": ".py",
   "mimetype": "text/x-python",
   "name": "python",
   "nbconvert_exporter": "python",
   "pygments_lexer": "ipython3",
   "version": "3.12.8"
  }
 },
 "nbformat": 4,
 "nbformat_minor": 0
}
